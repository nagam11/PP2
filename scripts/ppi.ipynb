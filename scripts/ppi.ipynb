{
 "cells": [
  {
   "cell_type": "code",
   "execution_count": 61,
   "metadata": {},
   "outputs": [],
   "source": [
    "import argparse\n",
    "import os\n",
    "import numpy as np\n",
    "from sklearn.neural_network import MLPClassifier\n",
    "from sklearn.model_selection import StratifiedKFold\n",
    "from sklearn.model_selection import GridSearchCV\n",
    "from sklearn import metrics"
   ]
  },
  {
   "cell_type": "markdown",
   "metadata": {},
   "source": [
    "## Create input vectors"
   ]
  },
  {
   "cell_type": "code",
   "execution_count": 4,
   "metadata": {},
   "outputs": [],
   "source": [
    "vectors_file = \"../output/sp_words-n3-w5-s100-k10-1.w2v\" \n",
    "ppi_file = \"../data/ppi_data.fasta\"\n",
    "os.path.isfile(vectors_file), os.path.isfile(ppi_file)"
   ]
  },
  {
   "cell_type": "code",
   "execution_count": 5,
   "metadata": {},
   "outputs": [
    {
     "data": {
      "text/plain": [
       "540"
      ]
     },
     "execution_count": 5,
     "metadata": {},
     "output_type": "execute_result"
    }
   ],
   "source": [
    "names = []\n",
    "seqs = []\n",
    "ppis = []\n",
    "# read data\n",
    "with open(ppi_file) as file:\n",
    "    i = 0\n",
    "    for line in file:\n",
    "        if (i % 3 == 0):\n",
    "            # name\n",
    "            names.append(line[1:].strip())\n",
    "        elif (i % 3 == 1):\n",
    "            # sequence\n",
    "            seqs.append(line.strip())\n",
    "        elif (i % 3 == 2):\n",
    "            # labels\n",
    "            ppis.append(line.strip())\n",
    "        i = i + 1\n",
    "len(names)"
   ]
  },
  {
   "cell_type": "code",
   "execution_count": 6,
   "metadata": {},
   "outputs": [
    {
     "data": {
      "text/plain": [
       "9617"
      ]
     },
     "execution_count": 6,
     "metadata": {},
     "output_type": "execute_result"
    }
   ],
   "source": [
    "vectors = {}\n",
    "with open(vectors_file) as file:\n",
    "    i = 0\n",
    "    for line in file:\n",
    "        aa_vec = line.split()\n",
    "        feature = np.array([float(x) for x in aa_vec[1:]])\n",
    "        vectors.update({aa_vec[0]: feature})\n",
    "        i = i + 1\n",
    "len(vectors)"
   ]
  },
  {
   "cell_type": "code",
   "execution_count": 7,
   "metadata": {},
   "outputs": [],
   "source": [
    "def convert_seq_gram(long_gram, vectors, offset=3):\n",
    "    seq_gram_strings = [long_gram[i:i+offset] for i in range(2*offset-1)] # get short grams within long gram\n",
    "    seq_gram_vectors = [vectors[gram] for gram in seq_gram_strings] # convert into feature vectors\n",
    "    gram_sum = np.array(seq_gram_vectors).sum(axis=0) # sum up short grams\n",
    "    return gram_sum\n",
    "\n",
    "def max_ppi_label(ppi_string):\n",
    "    ppi_vector = list(map(lambda x:0 if x==\"-\" else 1, ppi_string))\n",
    "    labels = {x:list(ppi_vector).count(x) for x in set(ppi_vector)}\n",
    "    return max(labels, key=labels.get)"
   ]
  },
  {
   "cell_type": "code",
   "execution_count": 9,
   "metadata": {},
   "outputs": [
    {
     "data": {
      "text/plain": [
       "(89541, 89541)"
      ]
     },
     "execution_count": 9,
     "metadata": {},
     "output_type": "execute_result"
    }
   ],
   "source": [
    "offset = 3\n",
    "features = []\n",
    "labels = []\n",
    "for i in range(len(names)):\n",
    "    seq = seqs[i]\n",
    "    ppi = ppis[i]\n",
    "    for j in range(len(seq)-2*offset):\n",
    "        # sequence residues\n",
    "        seq_vecs = convert_seq_gram(seq[j:j+2*offset+1], vectors, offset)\n",
    "        features.append(seq_vecs)\n",
    "        # ppi labels per residue\n",
    "        ppi_label = max_ppi_label(ppi[j:j+2*offset+1])\n",
    "        labels.append(ppi_label)\n",
    "len(features), len(labels)"
   ]
  },
  {
   "cell_type": "markdown",
   "metadata": {},
   "source": [
    "## Train Model"
   ]
  },
  {
   "cell_type": "code",
   "execution_count": 51,
   "metadata": {},
   "outputs": [],
   "source": [
    "X = features[0:100]\n",
    "y = labels[0:100]"
   ]
  },
  {
   "cell_type": "code",
   "execution_count": 52,
   "metadata": {},
   "outputs": [],
   "source": [
    "parameter_space = {\n",
    "    'hidden_layer_sizes': [25, 50, 100],\n",
    "    'learning_rate_init': [0.001, 0.01],\n",
    "    'n_iter_no_change': [100, 200, 500],\n",
    "}\n",
    "mlp = MLPClassifier(random_state=42)"
   ]
  },
  {
   "cell_type": "code",
   "execution_count": 53,
   "metadata": {},
   "outputs": [
    {
     "name": "stderr",
     "output_type": "stream",
     "text": [
      "C:\\Users\\Micky\\Miniconda3\\envs\\binfo\\lib\\site-packages\\sklearn\\model_selection\\_search.py:841: DeprecationWarning: The default of the `iid` parameter will change from True to False in version 0.22 and will be removed in 0.24. This will change numeric results when test-set sizes are unequal.\n",
      "  DeprecationWarning)\n",
      "C:\\Users\\Micky\\Miniconda3\\envs\\binfo\\lib\\site-packages\\sklearn\\neural_network\\multilayer_perceptron.py:562: ConvergenceWarning: Stochastic Optimizer: Maximum iterations (200) reached and the optimization hasn't converged yet.\n",
      "  % self.max_iter, ConvergenceWarning)\n"
     ]
    }
   ],
   "source": [
    "skf = StratifiedKFold(n_splits=10, random_state=42)\n",
    "clf = GridSearchCV(mlp, parameter_space, n_jobs=-1, cv=skf).fit(X, y)"
   ]
  },
  {
   "cell_type": "code",
   "execution_count": 72,
   "metadata": {},
   "outputs": [
    {
     "name": "stderr",
     "output_type": "stream",
     "text": [
      "C:\\Users\\Micky\\Miniconda3\\envs\\binfo\\lib\\site-packages\\sklearn\\utils\\deprecation.py:125: FutureWarning: You are accessing a training score ('split0_train_score'), which will not be available by default any more in 0.21. If you need training scores, please set return_train_score=True\n",
      "  warnings.warn(*warn_args, **warn_kwargs)\n",
      "C:\\Users\\Micky\\Miniconda3\\envs\\binfo\\lib\\site-packages\\sklearn\\utils\\deprecation.py:125: FutureWarning: You are accessing a training score ('split1_train_score'), which will not be available by default any more in 0.21. If you need training scores, please set return_train_score=True\n",
      "  warnings.warn(*warn_args, **warn_kwargs)\n",
      "C:\\Users\\Micky\\Miniconda3\\envs\\binfo\\lib\\site-packages\\sklearn\\utils\\deprecation.py:125: FutureWarning: You are accessing a training score ('split2_train_score'), which will not be available by default any more in 0.21. If you need training scores, please set return_train_score=True\n",
      "  warnings.warn(*warn_args, **warn_kwargs)\n",
      "C:\\Users\\Micky\\Miniconda3\\envs\\binfo\\lib\\site-packages\\sklearn\\utils\\deprecation.py:125: FutureWarning: You are accessing a training score ('split3_train_score'), which will not be available by default any more in 0.21. If you need training scores, please set return_train_score=True\n",
      "  warnings.warn(*warn_args, **warn_kwargs)\n",
      "C:\\Users\\Micky\\Miniconda3\\envs\\binfo\\lib\\site-packages\\sklearn\\utils\\deprecation.py:125: FutureWarning: You are accessing a training score ('split4_train_score'), which will not be available by default any more in 0.21. If you need training scores, please set return_train_score=True\n",
      "  warnings.warn(*warn_args, **warn_kwargs)\n",
      "C:\\Users\\Micky\\Miniconda3\\envs\\binfo\\lib\\site-packages\\sklearn\\utils\\deprecation.py:125: FutureWarning: You are accessing a training score ('split5_train_score'), which will not be available by default any more in 0.21. If you need training scores, please set return_train_score=True\n",
      "  warnings.warn(*warn_args, **warn_kwargs)\n",
      "C:\\Users\\Micky\\Miniconda3\\envs\\binfo\\lib\\site-packages\\sklearn\\utils\\deprecation.py:125: FutureWarning: You are accessing a training score ('split6_train_score'), which will not be available by default any more in 0.21. If you need training scores, please set return_train_score=True\n",
      "  warnings.warn(*warn_args, **warn_kwargs)\n",
      "C:\\Users\\Micky\\Miniconda3\\envs\\binfo\\lib\\site-packages\\sklearn\\utils\\deprecation.py:125: FutureWarning: You are accessing a training score ('split7_train_score'), which will not be available by default any more in 0.21. If you need training scores, please set return_train_score=True\n",
      "  warnings.warn(*warn_args, **warn_kwargs)\n",
      "C:\\Users\\Micky\\Miniconda3\\envs\\binfo\\lib\\site-packages\\sklearn\\utils\\deprecation.py:125: FutureWarning: You are accessing a training score ('split8_train_score'), which will not be available by default any more in 0.21. If you need training scores, please set return_train_score=True\n",
      "  warnings.warn(*warn_args, **warn_kwargs)\n",
      "C:\\Users\\Micky\\Miniconda3\\envs\\binfo\\lib\\site-packages\\sklearn\\utils\\deprecation.py:125: FutureWarning: You are accessing a training score ('split9_train_score'), which will not be available by default any more in 0.21. If you need training scores, please set return_train_score=True\n",
      "  warnings.warn(*warn_args, **warn_kwargs)\n",
      "C:\\Users\\Micky\\Miniconda3\\envs\\binfo\\lib\\site-packages\\sklearn\\utils\\deprecation.py:125: FutureWarning: You are accessing a training score ('mean_train_score'), which will not be available by default any more in 0.21. If you need training scores, please set return_train_score=True\n",
      "  warnings.warn(*warn_args, **warn_kwargs)\n",
      "C:\\Users\\Micky\\Miniconda3\\envs\\binfo\\lib\\site-packages\\sklearn\\utils\\deprecation.py:125: FutureWarning: You are accessing a training score ('std_train_score'), which will not be available by default any more in 0.21. If you need training scores, please set return_train_score=True\n",
      "  warnings.warn(*warn_args, **warn_kwargs)\n"
     ]
    },
    {
     "data": {
      "text/plain": [
       "{'mean_fit_time': array([0.33171282, 0.33590779, 0.33900571, 0.27934034, 0.32501683,\n",
       "        0.40866849, 0.42415822, 0.39637182, 0.38607955, 0.30812349,\n",
       "        0.37918332, 0.37728591, 0.85321479, 0.7892489 , 0.74207389,\n",
       "        0.48612316, 0.60425568, 0.63124022]),\n",
       " 'std_fit_time': array([0.03231202, 0.02453539, 0.0290133 , 0.02288382, 0.02427545,\n",
       "        0.0568056 , 0.01157816, 0.01127419, 0.00978036, 0.0328819 ,\n",
       "        0.01708476, 0.01806633, 0.21717413, 0.16388218, 0.02375772,\n",
       "        0.0405654 , 0.0539802 , 0.04344804]),\n",
       " 'mean_score_time': array([0.00209713, 0.00339706, 0.00149899, 0.00109959, 0.00129733,\n",
       "        0.00240045, 0.00279901, 0.00160153, 0.00129986, 0.001     ,\n",
       "        0.00260086, 0.00179925, 0.00419755, 0.00240016, 0.00389843,\n",
       "        0.0009989 , 0.00159936, 0.00289824]),\n",
       " 'std_score_time': array([1.75698995e-03, 3.52571258e-03, 9.22847788e-04, 2.99931577e-04,\n",
       "        7.79005081e-04, 1.68643693e-03, 3.70690634e-03, 1.02107786e-03,\n",
       "        6.40673018e-04, 8.05346763e-07, 3.04148256e-03, 1.32848086e-03,\n",
       "        4.16259868e-03, 2.61711121e-03, 6.05288352e-03, 2.16173483e-06,\n",
       "        1.01922244e-03, 4.73936218e-03]),\n",
       " 'param_hidden_layer_sizes': masked_array(data=[25, 25, 25, 25, 25, 25, 50, 50, 50, 50, 50, 50, 100,\n",
       "                    100, 100, 100, 100, 100],\n",
       "              mask=[False, False, False, False, False, False, False, False,\n",
       "                    False, False, False, False, False, False, False, False,\n",
       "                    False, False],\n",
       "        fill_value='?',\n",
       "             dtype=object),\n",
       " 'param_learning_rate_init': masked_array(data=[0.001, 0.001, 0.001, 0.01, 0.01, 0.01, 0.001, 0.001,\n",
       "                    0.001, 0.01, 0.01, 0.01, 0.001, 0.001, 0.001, 0.01,\n",
       "                    0.01, 0.01],\n",
       "              mask=[False, False, False, False, False, False, False, False,\n",
       "                    False, False, False, False, False, False, False, False,\n",
       "                    False, False],\n",
       "        fill_value='?',\n",
       "             dtype=object),\n",
       " 'param_n_iter_no_change': masked_array(data=[100, 200, 500, 100, 200, 500, 100, 200, 500, 100, 200,\n",
       "                    500, 100, 200, 500, 100, 200, 500],\n",
       "              mask=[False, False, False, False, False, False, False, False,\n",
       "                    False, False, False, False, False, False, False, False,\n",
       "                    False, False],\n",
       "        fill_value='?',\n",
       "             dtype=object),\n",
       " 'params': [{'hidden_layer_sizes': 25,\n",
       "   'learning_rate_init': 0.001,\n",
       "   'n_iter_no_change': 100},\n",
       "  {'hidden_layer_sizes': 25,\n",
       "   'learning_rate_init': 0.001,\n",
       "   'n_iter_no_change': 200},\n",
       "  {'hidden_layer_sizes': 25,\n",
       "   'learning_rate_init': 0.001,\n",
       "   'n_iter_no_change': 500},\n",
       "  {'hidden_layer_sizes': 25,\n",
       "   'learning_rate_init': 0.01,\n",
       "   'n_iter_no_change': 100},\n",
       "  {'hidden_layer_sizes': 25,\n",
       "   'learning_rate_init': 0.01,\n",
       "   'n_iter_no_change': 200},\n",
       "  {'hidden_layer_sizes': 25,\n",
       "   'learning_rate_init': 0.01,\n",
       "   'n_iter_no_change': 500},\n",
       "  {'hidden_layer_sizes': 50,\n",
       "   'learning_rate_init': 0.001,\n",
       "   'n_iter_no_change': 100},\n",
       "  {'hidden_layer_sizes': 50,\n",
       "   'learning_rate_init': 0.001,\n",
       "   'n_iter_no_change': 200},\n",
       "  {'hidden_layer_sizes': 50,\n",
       "   'learning_rate_init': 0.001,\n",
       "   'n_iter_no_change': 500},\n",
       "  {'hidden_layer_sizes': 50,\n",
       "   'learning_rate_init': 0.01,\n",
       "   'n_iter_no_change': 100},\n",
       "  {'hidden_layer_sizes': 50,\n",
       "   'learning_rate_init': 0.01,\n",
       "   'n_iter_no_change': 200},\n",
       "  {'hidden_layer_sizes': 50,\n",
       "   'learning_rate_init': 0.01,\n",
       "   'n_iter_no_change': 500},\n",
       "  {'hidden_layer_sizes': 100,\n",
       "   'learning_rate_init': 0.001,\n",
       "   'n_iter_no_change': 100},\n",
       "  {'hidden_layer_sizes': 100,\n",
       "   'learning_rate_init': 0.001,\n",
       "   'n_iter_no_change': 200},\n",
       "  {'hidden_layer_sizes': 100,\n",
       "   'learning_rate_init': 0.001,\n",
       "   'n_iter_no_change': 500},\n",
       "  {'hidden_layer_sizes': 100,\n",
       "   'learning_rate_init': 0.01,\n",
       "   'n_iter_no_change': 100},\n",
       "  {'hidden_layer_sizes': 100,\n",
       "   'learning_rate_init': 0.01,\n",
       "   'n_iter_no_change': 200},\n",
       "  {'hidden_layer_sizes': 100,\n",
       "   'learning_rate_init': 0.01,\n",
       "   'n_iter_no_change': 500}],\n",
       " 'split0_test_score': array([0.27272727, 0.27272727, 0.27272727, 0.27272727, 0.18181818,\n",
       "        0.18181818, 0.27272727, 0.27272727, 0.27272727, 0.27272727,\n",
       "        0.27272727, 0.27272727, 0.18181818, 0.18181818, 0.18181818,\n",
       "        0.18181818, 0.18181818, 0.18181818]),\n",
       " 'split1_test_score': array([1.        , 1.        , 1.        , 1.        , 1.        ,\n",
       "        1.        , 1.        , 1.        , 1.        , 0.90909091,\n",
       "        0.90909091, 0.90909091, 1.        , 1.        , 1.        ,\n",
       "        0.90909091, 0.90909091, 0.90909091]),\n",
       " 'split2_test_score': array([0.27272727, 0.27272727, 0.27272727, 0.36363636, 0.36363636,\n",
       "        0.36363636, 0.45454545, 0.45454545, 0.45454545, 0.27272727,\n",
       "        0.27272727, 0.27272727, 0.54545455, 0.54545455, 0.54545455,\n",
       "        0.45454545, 0.45454545, 0.45454545]),\n",
       " 'split3_test_score': array([0.45454545, 0.45454545, 0.45454545, 0.54545455, 0.54545455,\n",
       "        0.54545455, 0.54545455, 0.54545455, 0.54545455, 0.45454545,\n",
       "        0.45454545, 0.45454545, 0.54545455, 0.54545455, 0.54545455,\n",
       "        0.45454545, 0.45454545, 0.45454545]),\n",
       " 'split4_test_score': array([0.36363636, 0.36363636, 0.36363636, 0.36363636, 0.36363636,\n",
       "        0.36363636, 0.45454545, 0.45454545, 0.45454545, 0.45454545,\n",
       "        0.45454545, 0.45454545, 0.45454545, 0.45454545, 0.45454545,\n",
       "        0.45454545, 0.45454545, 0.45454545]),\n",
       " 'split5_test_score': array([1., 1., 1., 1., 1., 1., 1., 1., 1., 1., 1., 1., 1., 1., 1., 1., 1.,\n",
       "        1.]),\n",
       " 'split6_test_score': array([0.88888889, 0.88888889, 0.88888889, 0.77777778, 0.77777778,\n",
       "        0.77777778, 0.77777778, 0.77777778, 0.77777778, 0.77777778,\n",
       "        0.77777778, 0.77777778, 0.88888889, 0.88888889, 0.88888889,\n",
       "        0.77777778, 0.77777778, 0.77777778]),\n",
       " 'split7_test_score': array([1.        , 1.        , 1.        , 1.        , 1.        ,\n",
       "        1.        , 1.        , 1.        , 1.        , 1.        ,\n",
       "        1.        , 1.        , 0.88888889, 0.88888889, 0.88888889,\n",
       "        1.        , 1.        , 1.        ]),\n",
       " 'split8_test_score': array([1.        , 1.        , 1.        , 1.        , 1.        ,\n",
       "        1.        , 1.        , 1.        , 1.        , 0.88888889,\n",
       "        0.88888889, 0.88888889, 1.        , 1.        , 1.        ,\n",
       "        0.88888889, 0.88888889, 0.88888889]),\n",
       " 'split9_test_score': array([0.44444444, 0.44444444, 0.44444444, 0.44444444, 0.44444444,\n",
       "        0.44444444, 0.66666667, 0.66666667, 0.66666667, 0.66666667,\n",
       "        0.66666667, 0.66666667, 0.66666667, 0.66666667, 0.66666667,\n",
       "        0.66666667, 0.66666667, 0.66666667]),\n",
       " 'mean_test_score': array([0.65, 0.65, 0.65, 0.66, 0.65, 0.65, 0.7 , 0.7 , 0.7 , 0.65, 0.65,\n",
       "        0.65, 0.7 , 0.7 , 0.7 , 0.66, 0.66, 0.66]),\n",
       " 'std_test_score': array([0.31626769, 0.31626769, 0.31626769, 0.29431653, 0.30850732,\n",
       "        0.30850732, 0.26609788, 0.26609788, 0.26609788, 0.27528681,\n",
       "        0.27528681, 0.27528681, 0.27210366, 0.27210366, 0.27210366,\n",
       "        0.26959753, 0.26959753, 0.26959753]),\n",
       " 'rank_test_score': array([11, 11, 11,  7, 11, 11,  1,  1,  1, 11, 11, 11,  1,  1,  1,  7,  7,\n",
       "         7]),\n",
       " 'split0_train_score': array([1., 1., 1., 1., 1., 1., 1., 1., 1., 1., 1., 1., 1., 1., 1., 1., 1.,\n",
       "        1.]),\n",
       " 'split1_train_score': array([1., 1., 1., 1., 1., 1., 1., 1., 1., 1., 1., 1., 1., 1., 1., 1., 1.,\n",
       "        1.]),\n",
       " 'split2_train_score': array([1., 1., 1., 1., 1., 1., 1., 1., 1., 1., 1., 1., 1., 1., 1., 1., 1.,\n",
       "        1.]),\n",
       " 'split3_train_score': array([1., 1., 1., 1., 1., 1., 1., 1., 1., 1., 1., 1., 1., 1., 1., 1., 1.,\n",
       "        1.]),\n",
       " 'split4_train_score': array([1., 1., 1., 1., 1., 1., 1., 1., 1., 1., 1., 1., 1., 1., 1., 1., 1.,\n",
       "        1.]),\n",
       " 'split5_train_score': array([1., 1., 1., 1., 1., 1., 1., 1., 1., 1., 1., 1., 1., 1., 1., 1., 1.,\n",
       "        1.]),\n",
       " 'split6_train_score': array([1., 1., 1., 1., 1., 1., 1., 1., 1., 1., 1., 1., 1., 1., 1., 1., 1.,\n",
       "        1.]),\n",
       " 'split7_train_score': array([1., 1., 1., 1., 1., 1., 1., 1., 1., 1., 1., 1., 1., 1., 1., 1., 1.,\n",
       "        1.]),\n",
       " 'split8_train_score': array([1., 1., 1., 1., 1., 1., 1., 1., 1., 1., 1., 1., 1., 1., 1., 1., 1.,\n",
       "        1.]),\n",
       " 'split9_train_score': array([1., 1., 1., 1., 1., 1., 1., 1., 1., 1., 1., 1., 1., 1., 1., 1., 1.,\n",
       "        1.]),\n",
       " 'mean_train_score': array([1., 1., 1., 1., 1., 1., 1., 1., 1., 1., 1., 1., 1., 1., 1., 1., 1.,\n",
       "        1.]),\n",
       " 'std_train_score': array([0., 0., 0., 0., 0., 0., 0., 0., 0., 0., 0., 0., 0., 0., 0., 0., 0.,\n",
       "        0.])}"
      ]
     },
     "execution_count": 72,
     "metadata": {},
     "output_type": "execute_result"
    }
   ],
   "source": [
    "clf.cv_results_"
   ]
  },
  {
   "cell_type": "markdown",
   "metadata": {},
   "source": [
    "## Metrics\n",
    "Accuracy, Precision, Recall, AUC (ROC)"
   ]
  },
  {
   "cell_type": "code",
   "execution_count": 65,
   "metadata": {},
   "outputs": [
    {
     "data": {
      "text/plain": [
       "1.0"
      ]
     },
     "execution_count": 65,
     "metadata": {},
     "output_type": "execute_result"
    }
   ],
   "source": [
    "y_pred = clf.predict(X)\n",
    "metrics.accuracy_score(y, y_pred)"
   ]
  },
  {
   "cell_type": "code",
   "execution_count": 66,
   "metadata": {},
   "outputs": [
    {
     "data": {
      "text/plain": [
       "1.0"
      ]
     },
     "execution_count": 66,
     "metadata": {},
     "output_type": "execute_result"
    }
   ],
   "source": [
    "metrics.precision_score(y_true=y, y_pred=y_pred)"
   ]
  },
  {
   "cell_type": "code",
   "execution_count": 67,
   "metadata": {},
   "outputs": [
    {
     "data": {
      "text/plain": [
       "1.0"
      ]
     },
     "execution_count": 67,
     "metadata": {},
     "output_type": "execute_result"
    }
   ],
   "source": [
    "metrics.recall_score(y_true=y, y_pred=y_pred)"
   ]
  },
  {
   "cell_type": "code",
   "execution_count": 69,
   "metadata": {},
   "outputs": [
    {
     "data": {
      "text/plain": [
       "GridSearchCV(cv=StratifiedKFold(n_splits=10, random_state=42, shuffle=False),\n",
       "       error_score='raise-deprecating',\n",
       "       estimator=MLPClassifier(activation='relu', alpha=0.0001, batch_size='auto', beta_1=0.9,\n",
       "       beta_2=0.999, early_stopping=False, epsilon=1e-08,\n",
       "       hidden_layer_sizes=(100,), learning_rate='constant',\n",
       "       learning_rate_init=0.001, max_iter=200, momentum=0.9,\n",
       "       n_iter_no_change=10, nesterovs_momentum=True, power_t=0.5,\n",
       "       random_state=42, shuffle=True, solver='adam', tol=0.0001,\n",
       "       validation_fraction=0.1, verbose=False, warm_start=False),\n",
       "       fit_params=None, iid='warn', n_jobs=-1,\n",
       "       param_grid={'hidden_layer_sizes': [25, 50, 100], 'learning_rate_init': [0.001, 0.01], 'n_iter_no_change': [100, 200, 500]},\n",
       "       pre_dispatch='2*n_jobs', refit=True, return_train_score='warn',\n",
       "       scoring=None, verbose=0)"
      ]
     },
     "execution_count": 69,
     "metadata": {},
     "output_type": "execute_result"
    }
   ],
   "source": [
    "clf"
   ]
  }
 ],
 "metadata": {
  "kernelspec": {
   "display_name": "Python 3",
   "language": "python",
   "name": "python3"
  },
  "language_info": {
   "codemirror_mode": {
    "name": "ipython",
    "version": 3
   },
   "file_extension": ".py",
   "mimetype": "text/x-python",
   "name": "python",
   "nbconvert_exporter": "python",
   "pygments_lexer": "ipython3",
   "version": "3.6.6"
  }
 },
 "nbformat": 4,
 "nbformat_minor": 2
}
