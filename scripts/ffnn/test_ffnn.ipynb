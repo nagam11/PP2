{
 "cells": [
  {
   "cell_type": "code",
   "execution_count": 80,
   "metadata": {},
   "outputs": [],
   "source": [
    "import numpy as np\n",
    "import matplotlib.pyplot as plt\n",
    "import tensorflow as tf\n",
    "import biovec"
   ]
  },
  {
   "cell_type": "markdown",
   "metadata": {},
   "source": [
    "# Read Data"
   ]
  },
  {
   "cell_type": "code",
   "execution_count": 81,
   "metadata": {},
   "outputs": [
    {
     "data": {
      "text/plain": [
       "array([[ 0.97499549,  0.19626933,  0.45749313, ...,  0.07362792,\n",
       "         0.53396142,  0.        ],\n",
       "       [ 1.05078506,  0.29231763,  0.19424087, ...,  0.12072353,\n",
       "         0.38534316,  1.        ],\n",
       "       [ 0.64099419,  0.01247711, -0.01030196, ...,  0.48067993,\n",
       "        -0.27393717,  1.        ],\n",
       "       ...,\n",
       "       [ 0.9370383 ,  0.03682944,  0.31517491, ...,  0.40015069,\n",
       "         0.51669538,  1.        ],\n",
       "       [ 1.13437223, -0.20479627,  0.32728988, ...,  0.16014186,\n",
       "         0.45244536,  0.        ],\n",
       "       [ 1.30530214, -0.08957833,  0.31159812, ...,  0.19718666,\n",
       "         0.54793459,  1.        ]])"
      ]
     },
     "execution_count": 81,
     "metadata": {},
     "output_type": "execute_result"
    }
   ],
   "source": [
    "data = np.load(\"../../output/ppi_as_vec.npy\")\n",
    "data"
   ]
  },
  {
   "cell_type": "code",
   "execution_count": 82,
   "metadata": {},
   "outputs": [],
   "source": [
    "X = data[:,:-1]\n",
    "y = data[:,-1:]"
   ]
  },
  {
   "cell_type": "code",
   "execution_count": 83,
   "metadata": {},
   "outputs": [],
   "source": [
    "N = int(len(y)/5) # for debugging only on part of the dataset\n",
    "test_size = int(N/10)\n",
    "data_ixs = np.random.permutation(np.arange(N))\n",
    "\n",
    "X_test = X[data_ixs[:test_size], :]\n",
    "y_test = y[data_ixs[:test_size], :]\n",
    "\n",
    "X_train = X[data_ixs[test_size:], :]\n",
    "y_train = y[data_ixs[test_size:], :]"
   ]
  },
  {
   "cell_type": "markdown",
   "metadata": {},
   "source": [
    "# Create Model"
   ]
  },
  {
   "cell_type": "code",
   "execution_count": 88,
   "metadata": {},
   "outputs": [],
   "source": [
    "def batch_data(num_data, batch_size):\n",
    "    \"\"\" Yield batches with indices until epoch is over.\n",
    "    \n",
    "    Parameters\n",
    "    ----------\n",
    "    num_data: int\n",
    "        The number of samples in the dataset.\n",
    "    batch_size: int\n",
    "        The batch size used using training.\n",
    "\n",
    "    Returns\n",
    "    -------\n",
    "    batch_ixs: np.array of ints with shape [batch_size,]\n",
    "        Yields arrays of indices of size of the batch size until the epoch is over.\n",
    "    \"\"\"\n",
    "    \n",
    "    data_ixs = np.random.permutation(np.arange(num_data))\n",
    "    ix = 0\n",
    "    while ix + batch_size < num_data:\n",
    "        batch_ixs = data_ixs[ix:ix+batch_size]\n",
    "        ix += batch_size\n",
    "        yield batch_ixs\n",
    "    \n",
    "\n",
    "class FeedForwardNet:\n",
    "    \"\"\"\n",
    "    Simple feed forward neural network class\n",
    "    \"\"\"\n",
    "    \n",
    "    def __init__(self, hidden_sizes, layer_types, name, l2_reg=0.0):\n",
    "        \"\"\" FeedForwardNet constructor.\n",
    "        \n",
    "        Parameters\n",
    "        ----------\n",
    "        hidden_sizes: list of ints\n",
    "            The sizes of the hidden layers of the network.\n",
    "        name: str\n",
    "            The name of the network (used for a VariableScope)\n",
    "        l2_reg: float\n",
    "            The strength of L2 regularization (0 means no regularization)\n",
    "        \"\"\"\n",
    "        \n",
    "        self.hidden_sizes = hidden_sizes\n",
    "        self.layer_types = layer_types\n",
    "        self.name = name\n",
    "        self.dropout = tf.placeholder_with_default(0.0, shape=(), name=\"dropout\")\n",
    "        self.l2_reg = l2_reg\n",
    "        self.weights =[]\n",
    "        self.biases =[]\n",
    "    \n",
    "    def build(self, data_dim, num_classes):\n",
    "        \"\"\" Construct the model.\n",
    "        \n",
    "        Parameters\n",
    "        ----------\n",
    "        data_dim: int\n",
    "            The dimensions of the data samples.\n",
    "\n",
    "        Returns\n",
    "        -------\n",
    "        None\n",
    "\n",
    "        \"\"\"\n",
    "        self.X = tf.placeholder(shape=[None, data_dim], dtype=tf.float32, name=\"data\") #[NxD]\n",
    "        self.Y = tf.placeholder(shape=[None, num_classes], dtype=tf.float32, name=\"labels\") #[Nx1]\n",
    "    \n",
    "        with tf.variable_scope(self.name):\n",
    "        \n",
    "            hidden = self.X\n",
    "\n",
    "            for ix, hidden_size in enumerate(self.hidden_sizes):\n",
    "                W = tf.get_variable(f\"W_{ix}\", shape=[int(hidden.shape[1]), hidden_size])\n",
    "                b = tf.get_variable(f\"b_{ix}\", shape=[hidden_size,])\n",
    "                self.weights.append(W)\n",
    "                self.biases.append(b)\n",
    "                hidden = self.layer_types[ix](hidden @ W + b)\n",
    "                hidden = tf.nn.dropout(hidden, keep_prob=1-self.dropout) \n",
    "                    \n",
    "            W_out = tf.get_variable(\"W_out\", shape=[int(hidden.shape[1]), num_classes])\n",
    "            b_out = tf.get_variable(\"b_out\", shape=[num_classes,])\n",
    "            self.weights.append(W_out)\n",
    "            self.biases.append(b_out)\n",
    "            \n",
    "            self.logits = hidden @ W_out + b_out\n",
    "            self.l2_norm = tf.add_n([tf.norm(w) for w in self.weights])\n",
    "            self.cross_entropy_loss = tf.reduce_mean(tf.nn.softmax_cross_entropy_with_logits_v2(logits=self.logits, \n",
    "                                                                              labels=self.Y), name=\"cross_entropy_loss\")\n",
    "            self.accuracy = tf.reduce_mean(tf.cast(tf.equal(tf.argmax(self.logits, 1), \n",
    "                                                            tf.argmax(self.Y,1)),\n",
    "                                                   tf.float32), name=\"accuracy\")\n",
    "            \n",
    "            self.loss = self.cross_entropy_loss + self.l2_reg * self.l2_norm\n",
    "            \n",
    "            self.optimizer = tf.train.AdamOptimizer()\n",
    "            self.opt_op = self.optimizer.minimize(self.loss, var_list=[*self.weights, *self.biases])\n",
    "            \n",
    "        \n",
    "    def train(self, train_data, train_labels, val_data, val_labels, epochs=20, dropout=0.0, batch_size=512):\n",
    "        \"\"\" Train the feed forward neural network.\n",
    "        \n",
    "        Parameters\n",
    "        ----------\n",
    "        train_data: np.array, dtype float32, shape [N, D]\n",
    "            The training data. N corresponds to the number of training samples, D to the dimensionality of the data samples/\n",
    "        train_labels: np.array, shape [N, K]\n",
    "            The labels of the training data, where K is the number of classes.\n",
    "        val_data: np.array, dtype float32, shape [N_val, D]\n",
    "            The validation data. N_val corresponds to the number of validation samples, D to the dimensionality of the data samples/\n",
    "        val_labels: np.array, shape [N_val, K]\n",
    "            The labels of the training data, where K is the number of classes.\n",
    "        epochs: int\n",
    "            The number of epochs to train for.\n",
    "        dropout: float\n",
    "            The dropout rate used during training. 0 corresponds to no dropout.\n",
    "        batch_size: int\n",
    "            The batch size used for training.\n",
    "\n",
    "        Returns\n",
    "        -------\n",
    "        None\n",
    "\n",
    "        \"\"\"\n",
    "        train_losses = []\n",
    "        train_accs = []\n",
    "        val_losses = []\n",
    "        val_accs = []\n",
    "        \n",
    "        self.session = tf.Session()\n",
    "        session = self.session\n",
    "        \n",
    "        with session.as_default():\n",
    "            session.run(tf.global_variables_initializer())\n",
    "            \n",
    "            tr_loss, tr_acc = session.run([self.loss, self.accuracy], feed_dict={self.X: train_data,\n",
    "                                                                                self.Y: train_labels})\n",
    "            val_loss, val_acc = session.run([self.loss, self.accuracy], feed_dict={self.X: val_data,\n",
    "                                                                                self.Y: val_labels})\n",
    "            train_losses.append(tr_loss)\n",
    "            train_accs.append(tr_acc)\n",
    "            \n",
    "            val_losses.append(val_loss)\n",
    "            val_accs.append(val_acc)\n",
    "                        \n",
    "            for epoch in range(epochs):\n",
    "                if (epoch + 1) % 25 == 0:\n",
    "                    print(f\"Epoch {epoch+1}/{epochs}\")\n",
    "                for batch_ixs in batch_data(len(train_data), batch_size):\n",
    "                    _ = session.run(self.opt_op, feed_dict={self.X: train_data[batch_ixs],\n",
    "                                                            self.Y: train_labels[batch_ixs],\n",
    "                                                            self.dropout: dropout})\n",
    "                    tf.get_variable_scope().reuse_variables()\n",
    "                    \n",
    "                tr_loss, tr_acc= session.run([self.loss, self.accuracy], feed_dict={self.X: train_data,\n",
    "                                                                                    self.Y: train_labels})\n",
    "                val_loss, val_acc= session.run([self.loss, self.accuracy], feed_dict={self.X: val_data,\n",
    "                                                                                    self.Y: val_labels})\n",
    "                train_losses.append(tr_loss)\n",
    "                train_accs.append(tr_acc)\n",
    "\n",
    "                val_losses.append(val_loss)\n",
    "                val_accs.append(val_acc)    \n",
    "                tf.get_variable_scope().reuse_variables()\n",
    "    \n",
    "        self.hist={'train_loss': np.array(train_losses),\n",
    "           'train_accuracy': np.array(train_accs),\n",
    "           'val_loss': np.array(val_losses),\n",
    "           'val_accuracy': np.array(val_accs)}"
   ]
  },
  {
   "cell_type": "code",
   "execution_count": 89,
   "metadata": {},
   "outputs": [],
   "source": [
    "layer_types = [tf.nn.relu, tf.nn.relu, tf.nn.relu]\n",
    "tf.get_variable_scope().reuse_variables()\n",
    "hidden_sizes = [5]\n",
    "epochs = 100\n",
    "batch_size = 100"
   ]
  },
  {
   "cell_type": "code",
   "execution_count": 90,
   "metadata": {},
   "outputs": [],
   "source": [
    "NN_no_regularization = FeedForwardNet(hidden_sizes, layer_types, \"no_regularization\")\n",
    "NN_no_regularization.build(X_train.shape[1], num_classes=y_train.shape[1])"
   ]
  },
  {
   "cell_type": "code",
   "execution_count": 91,
   "metadata": {},
   "outputs": [
    {
     "name": "stdout",
     "output_type": "stream",
     "text": [
      "Epoch 25/100\n",
      "Epoch 50/100\n",
      "Epoch 75/100\n",
      "Epoch 100/100\n"
     ]
    }
   ],
   "source": [
    "NN_no_regularization.train(X_train, y_train, X_test, y_test, epochs,\n",
    "                          batch_size=batch_size)"
   ]
  },
  {
   "cell_type": "code",
   "execution_count": 92,
   "metadata": {},
   "outputs": [
    {
     "data": {
      "image/png": "[encoded data removed]",
      "text/plain": [
       "<Figure size 720x360 with 1 Axes>"
      ]
     },
     "metadata": {
      "needs_background": "light"
     },
     "output_type": "display_data"
    }
   ],
   "source": [
    "plt.figure(figsize=(10,5))\n",
    "plt.plot(NN_no_regularization.hist['train_loss'][5::], label=\"Training\")\n",
    "plt.plot(NN_no_regularization.hist['val_loss'][5::], label=\"Validation\")\n",
    "\n",
    "plt.xlabel(\"Epoch\", fontsize=20)\n",
    "plt.ylabel(\"Loss\", fontsize=20)\n",
    "plt.legend()\n",
    "plt.show()"
   ]
  },
  {
   "cell_type": "code",
   "execution_count": 70,
   "metadata": {},
   "outputs": [
    {
     "data": {
      "image/png": "[encoded data removed]",
      "text/plain": [
       "<Figure size 720x360 with 1 Axes>"
      ]
     },
     "metadata": {
      "needs_background": "light"
     },
     "output_type": "display_data"
    }
   ],
   "source": [
    "plt.figure(figsize=(10,5))\n",
    "\n",
    "plt.plot(NN_no_regularization.hist['train_accuracy'])\n",
    "plt.plot(NN_no_regularization.hist['val_accuracy'])\n",
    "\n",
    "plt.xlabel(\"Epoch\", fontsize=20)\n",
    "plt.ylabel(\"Accuracy\", fontsize=20)\n",
    "\n",
    "plt.show()"
   ]
  },
  {
   "cell_type": "code",
   "execution_count": null,
   "metadata": {},
   "outputs": [],
   "source": []
  }
 ],
 "metadata": {
  "kernelspec": {
   "display_name": "Python 3",
   "language": "python",
   "name": "python3"
  },
  "language_info": {
   "codemirror_mode": {
    "name": "ipython",
    "version": 3
   },
   "file_extension": ".py",
   "mimetype": "text/x-python",
   "name": "python",
   "nbconvert_exporter": "python",
   "pygments_lexer": "ipython3",
   "version": "3.6.0"
  }
 },
 "nbformat": 4,
 "nbformat_minor": 2
}
