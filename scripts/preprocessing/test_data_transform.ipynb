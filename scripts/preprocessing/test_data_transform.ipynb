{
 "cells": [
  {
   "cell_type": "code",
   "execution_count": 1,
   "metadata": {},
   "outputs": [],
   "source": [
    "import biovec\n",
    "import numpy as np"
   ]
  },
  {
   "cell_type": "code",
   "execution_count": 4,
   "metadata": {},
   "outputs": [
    {
     "data": {
      "text/plain": [
       "<gensim.models.keyedvectors.Word2VecKeyedVectors at 0x7ff099829908>"
      ]
     },
     "execution_count": 4,
     "metadata": {},
     "output_type": "execute_result"
    }
   ],
   "source": [
    "model = biovec.models.load_protvec(\"../../trained_models/trained.model\")\n",
    "model.wv.load_word2vec_format(fname=\"../../output/trained.vectors\")"
   ]
  },
  {
   "cell_type": "code",
   "execution_count": 5,
   "metadata": {},
   "outputs": [],
   "source": [
    "def read_fasta(path):\n",
    "    \"\"\"\n",
    "    Reads amino sequences and properties from fasta-formatted file\n",
    "\n",
    "    :param path: path to fasta file\n",
    "    :return: list of dicts fo fasta sequences and binding properties {'seq':, 'bind':}\n",
    "    \"\"\"\n",
    "    fasta = []\n",
    "\n",
    "    with open(path, 'r') as f:\n",
    "        # Intermediary variables for the current header and sequence\n",
    "        header = ''\n",
    "        amino_sequence = ''\n",
    "        binding = ''\n",
    "        # Start reading the input file line by line\n",
    "        while True:\n",
    "            # Read the line\n",
    "            line = f.readline()\n",
    "\n",
    "            # If the header is not empty,\n",
    "            if header:\n",
    "                # Check if the current line is empty or contains no whitespace chars\n",
    "                # If so, reached the end of sequence - add the header and sequence tuple to the list\n",
    "                # and reset the intermediary variables\n",
    "                if line.strip():\n",
    "                    if not (line.startswith('>') or line.startswith(';')):\n",
    "                        if not (line.startswith('-') or line.startswith('+')):\n",
    "                            # If the line is not empty and is not a set of non-printing chars, read the sequence\n",
    "                            amino_sequence = line.strip()\n",
    "                        else:\n",
    "                            binding = line.strip()\n",
    "                    else:\n",
    "                        fasta.append({'seq': amino_sequence, 'bind': binding})\n",
    "                        header = ''\n",
    "                        amino_sequence = ''\n",
    "                        binding = ''\n",
    "\n",
    "            # If the header variable is empty, check if the current line is the header\n",
    "            # In the case, initialise the header with the line and begin a new loop iteration\n",
    "            if line.startswith('>') or line.startswith(';'):\n",
    "                if not amino_sequence:\n",
    "                    header = line.strip()\n",
    "\n",
    "            # End Of File reached - break the loop\n",
    "            if line == '':\n",
    "                fasta.append({'seq': amino_sequence, 'bind': binding})\n",
    "                break\n",
    "    return fasta\n",
    "\n",
    "\n",
    "def compute_vector(word):\n",
    "    \"\"\"\n",
    "    Compute word vector by sum over triples\n",
    "\n",
    "    :param word: string of amino residues\n",
    "    :return: element-wise sum of vectors as ndarray(model.wv.vector_size)\n",
    "    \"\"\"\n",
    "    return sum([model.wv.get_vector(x) for x in [word[i:i + 3] for i in range(len(word) - 2)]])\n",
    "\n",
    "\n",
    "def compose_data(path):\n",
    "    \"\"\"\n",
    "    Put the inputs (word vectors) and targets together\n",
    "\n",
    "    :param path: path to fasta file\n",
    "    :return: ndarray(n_samples, n_features), ndarray(n_samples,)\n",
    "    \"\"\"\n",
    "    fasta = read_fasta(path)\n",
    "    vectors = []\n",
    "    bindings = []\n",
    "\n",
    "    for entry in fasta:\n",
    "        seq = entry.get('seq')\n",
    "        vectors.extend([compute_vector(seq[i - 3:i + 4]) for i in range(3, len(seq) - 3)])\n",
    "        bindings.append(np.array([1 if entry.get('bind')[i] == '+' else 0 for i in range(3, len(seq) - 3)]))\n",
    "\n",
    "    return np.stack(vectors, axis=0), np.hstack(bindings)"
   ]
  },
  {
   "cell_type": "code",
   "execution_count": 8,
   "metadata": {},
   "outputs": [
    {
     "data": {
      "text/plain": [
       "((89541, 100), (89541,))"
      ]
     },
     "execution_count": 8,
     "metadata": {},
     "output_type": "execute_result"
    }
   ],
   "source": [
    "# Get the data\n",
    "X, y = compose_data('../../data/ppi_data.fasta')"
   ]
  },
  {
   "cell_type": "code",
   "execution_count": 36,
   "metadata": {},
   "outputs": [],
   "source": [
    "data = np.append(X, np.vstack(y), axis=1)\n",
    "np.save(\"../../output/ppi_as_vec.npy\", data)"
   ]
  },
  {
   "cell_type": "code",
   "execution_count": 37,
   "metadata": {},
   "outputs": [
    {
     "data": {
      "text/plain": [
       "array([[ 0.97499549,  0.19626933,  0.45749313, ...,  0.07362792,\n",
       "         0.53396142,  0.        ],\n",
       "       [ 1.05078506,  0.29231763,  0.19424087, ...,  0.12072353,\n",
       "         0.38534316,  1.        ],\n",
       "       [ 0.64099419,  0.01247711, -0.01030196, ...,  0.48067993,\n",
       "        -0.27393717,  1.        ],\n",
       "       ...,\n",
       "       [ 0.9370383 ,  0.03682944,  0.31517491, ...,  0.40015069,\n",
       "         0.51669538,  1.        ],\n",
       "       [ 1.13437223, -0.20479627,  0.32728988, ...,  0.16014186,\n",
       "         0.45244536,  0.        ],\n",
       "       [ 1.30530214, -0.08957833,  0.31159812, ...,  0.19718666,\n",
       "         0.54793459,  1.        ]])"
      ]
     },
     "execution_count": 37,
     "metadata": {},
     "output_type": "execute_result"
    }
   ],
   "source": [
    "load_data = np.load(\"../../output/ppi_as_vec.npy\")\n",
    "load_data"
   ]
  },
  {
   "cell_type": "code",
   "execution_count": null,
   "metadata": {},
   "outputs": [],
   "source": []
  }
 ],
 "metadata": {
  "kernelspec": {
   "display_name": "Python 3",
   "language": "python",
   "name": "python3"
  },
  "language_info": {
   "codemirror_mode": {
    "name": "ipython",
    "version": 3
   },
   "file_extension": ".py",
   "mimetype": "text/x-python",
   "name": "python",
   "nbconvert_exporter": "python",
   "pygments_lexer": "ipython3",
   "version": "3.6.6"
  }
 },
 "nbformat": 4,
 "nbformat_minor": 2
}
